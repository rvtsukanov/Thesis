{
 "cells": [
  {
   "cell_type": "code",
   "execution_count": 1,
   "metadata": {},
   "outputs": [
    {
     "name": "stderr",
     "output_type": "stream",
     "text": [
      "/Users/rvtsukanov/utils/anaconda3/lib/python3.7/site-packages/lightgbm/__init__.py:48: UserWarning: Starting from version 2.2.1, the library file in distribution wheels for macOS is built by the Apple Clang (Xcode_8.3.3) compiler.\n",
      "This means that in case of installing LightGBM from PyPI via the ``pip install lightgbm`` command, you don't need to install the gcc compiler anymore.\n",
      "Instead of that, you need to install the OpenMP library, which is required for running LightGBM on the system with the Apple Clang compiler.\n",
      "You can install the OpenMP library by the following command: ``brew install libomp``.\n",
      "  \"You can install the OpenMP library by the following command: ``brew install libomp``.\", UserWarning)\n"
     ]
    }
   ],
   "source": [
    "import pandas as pd\n",
    "pd.set_option('display.max_columns', None)\n",
    "import lightgbm as lgb\n",
    "import numpy as np\n",
    "from sklearn.model_selection import cross_val_score, cross_validate\n",
    "from transliterate import translit, get_available_language_codes\n",
    "from sklearn.model_selection import KFold\n",
    "from sklearn.model_selection import StratifiedKFold"
   ]
  },
  {
   "cell_type": "code",
   "execution_count": 2,
   "metadata": {},
   "outputs": [],
   "source": [
    "data = pd.read_csv('../DATA/01_MAG/first.csv', index_col=None).drop(columns=['Unnamed: 0'])\n",
    "target = pd.read_csv('../DATA/01_MAG/first_targets.csv', index_col=None, names=['magnetic_loss']).reset_index().drop(columns=['index'])['magnetic_loss']\n",
    "data = data.drop(target[target.isna()].index)\n",
    "target = target.dropna()"
   ]
  },
  {
   "cell_type": "code",
   "execution_count": 3,
   "metadata": {},
   "outputs": [],
   "source": [
    "transliteration_mapping = {col: translit(col, 'ru', reversed=True) for col in data.columns}\n",
    "transliteration_mapping_inverse = {val: key for key, val in transliteration_mapping.items()}\n",
    "data.columns = transliteration_mapping_inverse.keys()"
   ]
  },
  {
   "cell_type": "code",
   "execution_count": 4,
   "metadata": {},
   "outputs": [],
   "source": [
    "import seaborn as sns "
   ]
  },
  {
   "cell_type": "code",
   "execution_count": 5,
   "metadata": {},
   "outputs": [],
   "source": [
    "#Prepare targets\n",
    "#CLASSIFICATION\n",
    "y_clf = pd.cut(target, [-np.inf, 1.05, 1.26, np.inf], labels=[0, 1, 2])\n",
    "\n",
    "#REGRESSION\n",
    "y_reg = target\n",
    "\n",
    "\n",
    "#BIMODAL CLF\n",
    "y_bimod = pd.cut(target, [-np.inf, 1.19, np.inf], labels=[0, 1])"
   ]
  },
  {
   "cell_type": "markdown",
   "metadata": {},
   "source": [
    "### Stage: classifier (3)"
   ]
  },
  {
   "cell_type": "code",
   "execution_count": 7,
   "metadata": {},
   "outputs": [],
   "source": [
    "estimator_clf = lgb.LGBMClassifier()"
   ]
  },
  {
   "cell_type": "markdown",
   "metadata": {},
   "source": [
    "##### Recover knowledge about multilabel classification!!!!"
   ]
  },
  {
   "cell_type": "code",
   "execution_count": 53,
   "metadata": {},
   "outputs": [],
   "source": [
    "from sklearn.model_selection import RandomizedSearchCV"
   ]
  },
  {
   "cell_type": "code",
   "execution_count": 56,
   "metadata": {},
   "outputs": [],
   "source": [
    "gcv = GridSearchCV(estimator=estimator, param_grid={'num_leaves': [i for i in range(5, 41, 5)],\n",
    "                                                    'reg_alpha': [i * 0.1 for i in range(0, 11)],\n",
    "                                                    'reg_lambda': [i * 0.1 for i in range(0, 11)]},\n",
    "                   verbose=10, cv=StratifiedKFold(n_splits=4, shuffle=True), scoring='f1_macro')"
   ]
  },
  {
   "cell_type": "code",
   "execution_count": 10,
   "metadata": {},
   "outputs": [],
   "source": [
    "cross_validate(estimator=estimator_clf, \n",
    "               X=data,\n",
    "               y=y_clf,\n",
    "               cv=StratifiedKFold(n_splits=10, shuffle=True),\n",
    "               scoring=['accuracy', 'f1_macro'])"
   ]
  },
  {
   "cell_type": "code",
   "execution_count": 13,
   "metadata": {},
   "outputs": [
    {
     "data": {
      "text/plain": [
       "LGBMClassifier(boosting_type='gbdt', class_weight=None, colsample_bytree=1.0,\n",
       "               importance_type='split', learning_rate=0.1, max_depth=-1,\n",
       "               min_child_samples=20, min_child_weight=0.001, min_split_gain=0.0,\n",
       "               n_estimators=100, n_jobs=-1, num_leaves=31, objective=None,\n",
       "               random_state=None, reg_alpha=0.0, reg_lambda=0.0, silent=True,\n",
       "               subsample=1.0, subsample_for_bin=200000, subsample_freq=0)"
      ]
     },
     "execution_count": 13,
     "metadata": {},
     "output_type": "execute_result"
    }
   ],
   "source": [
    "estimator_clf.fit(X=data, y=y_clf)"
   ]
  },
  {
   "cell_type": "code",
   "execution_count": 28,
   "metadata": {},
   "outputs": [
    {
     "data": {
      "text/plain": [
       "[(512, 'Tolschina'),\n",
       " (280, 'Temperatura_polosy_na_levoj_motalke_prohod_3'),\n",
       " (224, 'Temperatura_polosy_na_pravoj_motalke_prohod_2'),\n",
       " (207, 'Temperatura_v_SF1_zona_5'),\n",
       " (195, 'Pozitsija_VTO'),\n",
       " (194, 'Soderzhanie_H2_v_SF3_MP2'),\n",
       " (191, 'Partija_ANO_PDS'),\n",
       " (177, 'Trend_temperatury_kontsa_prokatki_M12-02'),\n",
       " (173, 'Temperatura_v_SF1_zona_3'),\n",
       " (169, 'R17sr'),\n",
       " (165, 'Temperatura_v_HEF_zona_2'),\n",
       " (158, 'Temperatura_v_SF3_zona_3'),\n",
       " (155, 'Temperatura_v_SF1_zona_2'),\n",
       " (155, 'Temperatura_v_SF1_zona_1'),\n",
       " (154, 'Temperatura_polosy_na_levoj_motalke_prohod_5'),\n",
       " (153, 'Temperatura_v_RTF_zona_4'),\n",
       " (151, 'Temperatura_v_HEF_zona_1'),\n",
       " (139, 'Temperatura_v_SF1_zona_4'),\n",
       " (138, 'Temperatura_v_RTF_zona_5'),\n",
       " (137, 'Temperatura_polosy_na_pravoj_motalke_prohod_4')]"
      ]
     },
     "execution_count": 28,
     "metadata": {},
     "output_type": "execute_result"
    }
   ],
   "source": [
    "sorted(zip(estimator_clf.feature_importances_, data.columns), reverse=True)[:20]"
   ]
  },
  {
   "cell_type": "code",
   "execution_count": 29,
   "metadata": {},
   "outputs": [],
   "source": [
    "from sklearn.preprocessing import StandardScaler"
   ]
  },
  {
   "cell_type": "code",
   "execution_count": 30,
   "metadata": {},
   "outputs": [],
   "source": [
    "scaler = StandardScaler()"
   ]
  },
  {
   "cell_type": "code",
   "execution_count": 32,
   "metadata": {},
   "outputs": [],
   "source": [
    "data_transformed = scaler.fit_transform(data)"
   ]
  },
  {
   "cell_type": "code",
   "execution_count": 33,
   "metadata": {},
   "outputs": [],
   "source": [
    "from sklearn.linear_model import LogisticRegression"
   ]
  },
  {
   "cell_type": "code",
   "execution_count": 35,
   "metadata": {
    "scrolled": true
   },
   "outputs": [
    {
     "name": "stderr",
     "output_type": "stream",
     "text": [
      "/Users/rvtsukanov/utils/anaconda3/lib/python3.7/site-packages/sklearn/linear_model/logistic.py:432: FutureWarning: Default solver will be changed to 'lbfgs' in 0.22. Specify a solver to silence this warning.\n",
      "  FutureWarning)\n",
      "/Users/rvtsukanov/utils/anaconda3/lib/python3.7/site-packages/sklearn/linear_model/logistic.py:469: FutureWarning: Default multi_class will be changed to 'auto' in 0.22. Specify the multi_class option to silence this warning.\n",
      "  \"this warning.\", FutureWarning)\n",
      "/Users/rvtsukanov/utils/anaconda3/lib/python3.7/site-packages/sklearn/linear_model/logistic.py:432: FutureWarning: Default solver will be changed to 'lbfgs' in 0.22. Specify a solver to silence this warning.\n",
      "  FutureWarning)\n",
      "/Users/rvtsukanov/utils/anaconda3/lib/python3.7/site-packages/sklearn/linear_model/logistic.py:469: FutureWarning: Default multi_class will be changed to 'auto' in 0.22. Specify the multi_class option to silence this warning.\n",
      "  \"this warning.\", FutureWarning)\n",
      "/Users/rvtsukanov/utils/anaconda3/lib/python3.7/site-packages/sklearn/linear_model/logistic.py:432: FutureWarning: Default solver will be changed to 'lbfgs' in 0.22. Specify a solver to silence this warning.\n",
      "  FutureWarning)\n",
      "/Users/rvtsukanov/utils/anaconda3/lib/python3.7/site-packages/sklearn/linear_model/logistic.py:469: FutureWarning: Default multi_class will be changed to 'auto' in 0.22. Specify the multi_class option to silence this warning.\n",
      "  \"this warning.\", FutureWarning)\n",
      "/Users/rvtsukanov/utils/anaconda3/lib/python3.7/site-packages/sklearn/linear_model/logistic.py:432: FutureWarning: Default solver will be changed to 'lbfgs' in 0.22. Specify a solver to silence this warning.\n",
      "  FutureWarning)\n",
      "/Users/rvtsukanov/utils/anaconda3/lib/python3.7/site-packages/sklearn/linear_model/logistic.py:469: FutureWarning: Default multi_class will be changed to 'auto' in 0.22. Specify the multi_class option to silence this warning.\n",
      "  \"this warning.\", FutureWarning)\n",
      "/Users/rvtsukanov/utils/anaconda3/lib/python3.7/site-packages/sklearn/linear_model/logistic.py:432: FutureWarning: Default solver will be changed to 'lbfgs' in 0.22. Specify a solver to silence this warning.\n",
      "  FutureWarning)\n",
      "/Users/rvtsukanov/utils/anaconda3/lib/python3.7/site-packages/sklearn/linear_model/logistic.py:469: FutureWarning: Default multi_class will be changed to 'auto' in 0.22. Specify the multi_class option to silence this warning.\n",
      "  \"this warning.\", FutureWarning)\n",
      "/Users/rvtsukanov/utils/anaconda3/lib/python3.7/site-packages/sklearn/linear_model/logistic.py:432: FutureWarning: Default solver will be changed to 'lbfgs' in 0.22. Specify a solver to silence this warning.\n",
      "  FutureWarning)\n",
      "/Users/rvtsukanov/utils/anaconda3/lib/python3.7/site-packages/sklearn/linear_model/logistic.py:469: FutureWarning: Default multi_class will be changed to 'auto' in 0.22. Specify the multi_class option to silence this warning.\n",
      "  \"this warning.\", FutureWarning)\n",
      "/Users/rvtsukanov/utils/anaconda3/lib/python3.7/site-packages/sklearn/linear_model/logistic.py:432: FutureWarning: Default solver will be changed to 'lbfgs' in 0.22. Specify a solver to silence this warning.\n",
      "  FutureWarning)\n",
      "/Users/rvtsukanov/utils/anaconda3/lib/python3.7/site-packages/sklearn/linear_model/logistic.py:469: FutureWarning: Default multi_class will be changed to 'auto' in 0.22. Specify the multi_class option to silence this warning.\n",
      "  \"this warning.\", FutureWarning)\n",
      "/Users/rvtsukanov/utils/anaconda3/lib/python3.7/site-packages/sklearn/linear_model/logistic.py:432: FutureWarning: Default solver will be changed to 'lbfgs' in 0.22. Specify a solver to silence this warning.\n",
      "  FutureWarning)\n",
      "/Users/rvtsukanov/utils/anaconda3/lib/python3.7/site-packages/sklearn/linear_model/logistic.py:469: FutureWarning: Default multi_class will be changed to 'auto' in 0.22. Specify the multi_class option to silence this warning.\n",
      "  \"this warning.\", FutureWarning)\n",
      "/Users/rvtsukanov/utils/anaconda3/lib/python3.7/site-packages/sklearn/linear_model/logistic.py:432: FutureWarning: Default solver will be changed to 'lbfgs' in 0.22. Specify a solver to silence this warning.\n",
      "  FutureWarning)\n",
      "/Users/rvtsukanov/utils/anaconda3/lib/python3.7/site-packages/sklearn/linear_model/logistic.py:469: FutureWarning: Default multi_class will be changed to 'auto' in 0.22. Specify the multi_class option to silence this warning.\n",
      "  \"this warning.\", FutureWarning)\n",
      "/Users/rvtsukanov/utils/anaconda3/lib/python3.7/site-packages/sklearn/linear_model/logistic.py:432: FutureWarning: Default solver will be changed to 'lbfgs' in 0.22. Specify a solver to silence this warning.\n",
      "  FutureWarning)\n",
      "/Users/rvtsukanov/utils/anaconda3/lib/python3.7/site-packages/sklearn/linear_model/logistic.py:469: FutureWarning: Default multi_class will be changed to 'auto' in 0.22. Specify the multi_class option to silence this warning.\n",
      "  \"this warning.\", FutureWarning)\n"
     ]
    },
    {
     "data": {
      "text/plain": [
       "{'fit_time': array([28.30384302, 24.71674228, 32.00610805, 30.88318825, 25.58192468,\n",
       "        25.46244311, 28.80307817, 27.71723986, 26.15052867, 25.54678917]),\n",
       " 'score_time': array([0.0159719 , 0.00930095, 0.01117182, 0.01525307, 0.00818515,\n",
       "        0.00858998, 0.00758815, 0.00746512, 0.01223016, 0.00886989]),\n",
       " 'test_accuracy': array([0.77447949, 0.77860235, 0.77654092, 0.78164948, 0.78061856,\n",
       "        0.78515464, 0.75979381, 0.77195876, 0.78041237, 0.78020619]),\n",
       " 'test_f1_macro': array([0.7926702 , 0.79468415, 0.79526988, 0.79761527, 0.79492985,\n",
       "        0.80187716, 0.77869846, 0.78938443, 0.7998029 , 0.79611153])}"
      ]
     },
     "execution_count": 35,
     "metadata": {},
     "output_type": "execute_result"
    }
   ],
   "source": [
    "cross_validate(estimator=logreg, \n",
    "               X=data_transformed,\n",
    "               y=y_clf,\n",
    "               cv=StratifiedKFold(n_splits=10, shuffle=True),\n",
    "               scoring=['accuracy', 'f1_macro'])"
   ]
  },
  {
   "cell_type": "code",
   "execution_count": 58,
   "metadata": {},
   "outputs": [
    {
     "name": "stderr",
     "output_type": "stream",
     "text": [
      "/Users/rvtsukanov/utils/anaconda3/lib/python3.7/site-packages/sklearn/linear_model/logistic.py:432: FutureWarning: Default solver will be changed to 'lbfgs' in 0.22. Specify a solver to silence this warning.\n",
      "  FutureWarning)\n",
      "/Users/rvtsukanov/utils/anaconda3/lib/python3.7/site-packages/sklearn/linear_model/logistic.py:469: FutureWarning: Default multi_class will be changed to 'auto' in 0.22. Specify the multi_class option to silence this warning.\n",
      "  \"this warning.\", FutureWarning)\n"
     ]
    },
    {
     "data": {
      "text/plain": [
       "LogisticRegression(C=1.0, class_weight=None, dual=False, fit_intercept=True,\n",
       "                   intercept_scaling=1, l1_ratio=None, max_iter=100,\n",
       "                   multi_class='warn', n_jobs=None, penalty='l1',\n",
       "                   random_state=None, solver='warn', tol=0.0001, verbose=0,\n",
       "                   warm_start=False)"
      ]
     },
     "execution_count": 58,
     "metadata": {},
     "output_type": "execute_result"
    }
   ],
   "source": [
    "logreg = LogisticRegression(penalty='l1')\n",
    "logreg.fit(X=data_transformed, y=y_clf)"
   ]
  },
  {
   "cell_type": "code",
   "execution_count": 76,
   "metadata": {},
   "outputs": [
    {
     "data": {
      "text/plain": [
       "[(4.162655320935779, 'Cn'),\n",
       " (3.87854015406054, 'norm_len'),\n",
       " (3.852041541531156, 'O2k'),\n",
       " (3.7052307435017684, 'Partija_ANO_PDS'),\n",
       " (3.1015624553630055, 'Znachenie_CO2_v_SF1_MP1'),\n",
       " (2.8589794470412406, 'Tochka_rosy_v_SF1_MP3'),\n",
       " (2.698027984688116, 'cold5_len'),\n",
       " (2.669645120628873, 'decarb_len'),\n",
       " (2.608049128923387, 'cold1_len'),\n",
       " (2.5690187117023746, 'ZVO'),\n",
       " (2.4199044747496448, 'Sera'),\n",
       " (2.255042978690305, 'Soderzhanie_H2_v_SF1_MP3'),\n",
       " (2.218679773516994, 'Pozitsija_VTO'),\n",
       " (2.105686865004725, 'cold4_len'),\n",
       " (2.0078404551551774, 'Nk'),\n",
       " (1.893117895415656, 'dsr,_mkm'),\n",
       " (1.6451979407973498, 'Tochka_rosy_v_RTF'),\n",
       " (1.5370071757412445, 'Massa'),\n",
       " (1.5251955907045043, 'Tochka_rosy_v_SF1_MP2'),\n",
       " (1.465555905310374, 'cold3_len')]"
      ]
     },
     "execution_count": 76,
     "metadata": {},
     "output_type": "execute_result"
    }
   ],
   "source": [
    "sorted(zip(list(np.abs(logreg.coef_[0])), data.columns), reverse=True)[:20]"
   ]
  },
  {
   "cell_type": "code",
   "execution_count": 77,
   "metadata": {},
   "outputs": [
    {
     "data": {
      "text/plain": [
       "[(8.021740937405092, 'decarb_len'),\n",
       " (4.800777718058404, 'cold1_len'),\n",
       " (4.552658170496892, 'cold2_len'),\n",
       " (3.6408969990734743, 'cold3_len'),\n",
       " (3.259415794215515, 'cold4_len'),\n",
       " (3.145349420130062, 'O2n'),\n",
       " (2.680823911130652, 'norm_len'),\n",
       " (2.5831438143438263, 'cold5_len'),\n",
       " (1.7353907287259425, 'R17sr'),\n",
       " (1.7234896787390641, 'Cn'),\n",
       " (1.2528329076737734, 'Tochka_rosy_v_RTF'),\n",
       " (1.1502664743908737, 'Soderzhanie_H2_v_SF1_MP3'),\n",
       " (1.1496456669559838, 'Znachenie_CO2_v_SF1_MP2'),\n",
       " (1.1386147617247693, 'Dlina,_m'),\n",
       " (1.0902998922776967, 'Temperatura_polosy_v_zone_4C2_AN'),\n",
       " (1.0074881225470347, 'Ssrednee'),\n",
       " (0.9484409506923687, 'Svojstva_VPS'),\n",
       " (0.9295120205654286, 'Tochka_rosy_v_SF1_MP2'),\n",
       " (0.8719654693164841, 'Temperatura_polosy_v_zone_4B__AN'),\n",
       " (0.8261426416366187, 'magn_len')]"
      ]
     },
     "execution_count": 77,
     "metadata": {},
     "output_type": "execute_result"
    }
   ],
   "source": [
    "sorted(zip(list(np.abs(logreg.coef_[1])), data.columns), reverse=True)[:20]"
   ]
  },
  {
   "cell_type": "code",
   "execution_count": 78,
   "metadata": {},
   "outputs": [
    {
     "data": {
      "text/plain": [
       "[(9.681762693672807, 'Partija_ANO_PDS'),\n",
       " (6.346936276845632, 'Massa'),\n",
       " (6.261834838075481, 'Soderzhnanie_H2_v_RTF'),\n",
       " (4.785754910789641, 'Tolsch_'),\n",
       " (3.8205798272407616, 'magn_len'),\n",
       " (3.7736007259136195, 'Sk'),\n",
       " (3.468037107560718, 'Nn'),\n",
       " (3.405117762688852, 'Svojstva_VPS'),\n",
       " (2.94008359432822, 'cold4_len'),\n",
       " (2.860575351433163, 'Pozitsija_VTO'),\n",
       " (2.776512024198693, 'cold2_len'),\n",
       " (2.776144851622438, 'Soderzhanie_H2_v_SF1_MP2'),\n",
       " (2.686967226371109, 'Nsrednee'),\n",
       " (2.4523353006404336, 'cold1_len'),\n",
       " (2.3828314547539615, 'Cn'),\n",
       " (2.2628396881535005, 'cold3_len'),\n",
       " (2.2007685596109274, 'Nk'),\n",
       " (2.0899258023144793, 'Kremnij'),\n",
       " (2.0552786778278893, 'Shirina'),\n",
       " (1.9932682949243903, 'O2k')]"
      ]
     },
     "execution_count": 78,
     "metadata": {},
     "output_type": "execute_result"
    }
   ],
   "source": [
    "sorted(zip(list(np.abs(logreg.coef_[2])), data.columns), reverse=True)[:20]"
   ]
  },
  {
   "cell_type": "code",
   "execution_count": 85,
   "metadata": {},
   "outputs": [],
   "source": [
    "total_imp = []\n",
    "for i in range(3):\n",
    "    new_imp = {}\n",
    "    for key, name in sorted(zip(list(np.abs(logreg.coef_[i])), data.columns), reverse=True)[:20]:\n",
    "        new_imp[transliteration_mapping_inverse[name]] = key\n",
    "    total_imp.append(new_imp)"
   ]
  },
  {
   "cell_type": "code",
   "execution_count": 86,
   "metadata": {
    "collapsed": true
   },
   "outputs": [
    {
     "data": {
      "text/plain": [
       "[{'Cн': 4.162655320935779,\n",
       "  'norm_len': 3.87854015406054,\n",
       "  'О2к': 3.852041541531156,\n",
       "  'Партия_АНО_ПДС': 3.7052307435017684,\n",
       "  'Значение_CO2_в_SF1_MP1': 3.1015624553630055,\n",
       "  'Точка_росы_в_SF1_MP3': 2.8589794470412406,\n",
       "  'cold5_len': 2.698027984688116,\n",
       "  'decarb_len': 2.669645120628873,\n",
       "  'cold1_len': 2.608049128923387,\n",
       "  'ЗВО': 2.5690187117023746,\n",
       "  'Сера': 2.4199044747496448,\n",
       "  'Содержание_H2_в_SF1_MP3': 2.255042978690305,\n",
       "  'Позиция_ВТО': 2.218679773516994,\n",
       "  'cold4_len': 2.105686865004725,\n",
       "  'Nк': 2.0078404551551774,\n",
       "  'dср,_мкм': 1.893117895415656,\n",
       "  'Точка_росы_в_RTF': 1.6451979407973498,\n",
       "  'Масса': 1.5370071757412445,\n",
       "  'Точка_росы_в_SF1_MP2': 1.5251955907045043,\n",
       "  'cold3_len': 1.465555905310374},\n",
       " {'decarb_len': 8.021740937405092,\n",
       "  'cold1_len': 4.800777718058404,\n",
       "  'cold2_len': 4.552658170496892,\n",
       "  'cold3_len': 3.6408969990734743,\n",
       "  'cold4_len': 3.259415794215515,\n",
       "  'O2н': 3.145349420130062,\n",
       "  'norm_len': 2.680823911130652,\n",
       "  'cold5_len': 2.5831438143438263,\n",
       "  'Р17ср': 1.7353907287259425,\n",
       "  'Cн': 1.7234896787390641,\n",
       "  'Точка_росы_в_RTF': 1.2528329076737734,\n",
       "  'Содержание_H2_в_SF1_MP3': 1.1502664743908737,\n",
       "  'Значение_CO2_в_SF1_MP2': 1.1496456669559838,\n",
       "  'Длина,_м': 1.1386147617247693,\n",
       "  'Температура_полосы_в_зоне_4C2_АН': 1.0902998922776967,\n",
       "  'Ссреднее': 1.0074881225470347,\n",
       "  'Свойства_ВПС': 0.9484409506923687,\n",
       "  'Точка_росы_в_SF1_MP2': 0.9295120205654286,\n",
       "  'Температура_полосы_в_зоне_4B__АН': 0.8719654693164841,\n",
       "  'magn_len': 0.8261426416366187},\n",
       " {'Партия_АНО_ПДС': 9.681762693672807,\n",
       "  'Масса': 6.346936276845632,\n",
       "  'Содержнание_H2_в_RTF': 6.261834838075481,\n",
       "  'Толщ_': 4.785754910789641,\n",
       "  'magn_len': 3.8205798272407616,\n",
       "  'Ск': 3.7736007259136195,\n",
       "  'Nн': 3.468037107560718,\n",
       "  'Свойства_ВПС': 3.405117762688852,\n",
       "  'cold4_len': 2.94008359432822,\n",
       "  'Позиция_ВТО': 2.860575351433163,\n",
       "  'cold2_len': 2.776512024198693,\n",
       "  'Содержание_H2_в_SF1_MP2': 2.776144851622438,\n",
       "  'Nсреднее': 2.686967226371109,\n",
       "  'cold1_len': 2.4523353006404336,\n",
       "  'Cн': 2.3828314547539615,\n",
       "  'cold3_len': 2.2628396881535005,\n",
       "  'Nк': 2.2007685596109274,\n",
       "  'Кремний': 2.0899258023144793,\n",
       "  'Ширина': 2.0552786778278893,\n",
       "  'О2к': 1.9932682949243903}]"
      ]
     },
     "execution_count": 86,
     "metadata": {},
     "output_type": "execute_result"
    }
   ],
   "source": [
    "total_imp"
   ]
  },
  {
   "cell_type": "markdown",
   "metadata": {},
   "source": [
    "### Stage: classifier (bimodal target)"
   ]
  },
  {
   "cell_type": "code",
   "execution_count": 97,
   "metadata": {},
   "outputs": [
    {
     "data": {
      "text/plain": [
       "{'fit_time': array([3.5298214 , 3.35432005, 3.64341497, 3.52053595, 2.86661577,\n",
       "        3.59178805, 3.45894408, 3.19733286, 3.41358423, 2.911587  ]),\n",
       " 'score_time': array([0.13653684, 0.13552499, 0.29410911, 0.13559318, 0.24641824,\n",
       "        0.14205194, 0.13530111, 0.14099097, 0.13643074, 0.13579297]),\n",
       " 'test_accuracy': array([0.99587799, 0.99732014, 0.99649485, 0.99463918, 0.99587629,\n",
       "        0.99608247, 0.9956701 , 0.99608247, 0.99546392, 0.99628866]),\n",
       " 'test_f1_macro': array([0.99488479, 0.99667259, 0.99564252, 0.99334315, 0.99487935,\n",
       "        0.99512766, 0.99461478, 0.99514305, 0.99435706, 0.99539557]),\n",
       " 'test_f1_micro': array([0.99587799, 0.99732014, 0.99649485, 0.99463918, 0.99587629,\n",
       "        0.99608247, 0.9956701 , 0.99608247, 0.99546392, 0.99628866])}"
      ]
     },
     "execution_count": 97,
     "metadata": {},
     "output_type": "execute_result"
    }
   ],
   "source": [
    "cross_validate(estimator=estimator_bimod,\n",
    "               X=data.drop(columns=['R17sr']),\n",
    "               y=y_bimod,\n",
    "               cv=StratifiedKFold(n_splits=10, shuffle=True),\n",
    "               scoring=['accuracy', 'f1_macro', 'f1_micro'])"
   ]
  },
  {
   "cell_type": "code",
   "execution_count": 88,
   "metadata": {
    "scrolled": true
   },
   "outputs": [],
   "source": [
    "estimator_bimod = lgb.LGBMClassifier()"
   ]
  },
  {
   "cell_type": "code",
   "execution_count": 95,
   "metadata": {},
   "outputs": [
    {
     "data": {
      "text/plain": [
       "LGBMClassifier(boosting_type='gbdt', class_weight=None, colsample_bytree=1.0,\n",
       "               importance_type='split', learning_rate=0.1, max_depth=-1,\n",
       "               min_child_samples=20, min_child_weight=0.001, min_split_gain=0.0,\n",
       "               n_estimators=100, n_jobs=-1, num_leaves=31, objective=None,\n",
       "               random_state=None, reg_alpha=0.0, reg_lambda=0.0, silent=True,\n",
       "               subsample=1.0, subsample_for_bin=200000, subsample_freq=0)"
      ]
     },
     "execution_count": 95,
     "metadata": {},
     "output_type": "execute_result"
    }
   ],
   "source": [
    "estimator_bimod.fit(X=data.drop(columns=['R17sr']), y=y_bimod)"
   ]
  },
  {
   "cell_type": "code",
   "execution_count": 96,
   "metadata": {},
   "outputs": [
    {
     "data": {
      "text/plain": [
       "[(181, 'decarb_len'),\n",
       " (127, 'Trend_temperatury_kontsa_prokatki_M12-02'),\n",
       " (81, 'Shirina'),\n",
       " (74, 'Znachenie_CO2_v_SF1_MP2'),\n",
       " (73, 'Pozitsija_VTO'),\n",
       " (72, 'Znachenie_CO2_v_SF1_MP4'),\n",
       " (70, 'Temperatura_v_SF1_zona_1'),\n",
       " (69, 'Temperatura_polosy_v_zone_4C2_AN'),\n",
       " (67, 'Temperatura_v_SF3_zona_2'),\n",
       " (67, 'Massa'),\n",
       " (62, 'Soderzhanie_H2_v_SF3_MP2'),\n",
       " (61, 'Temperatura_v_SF1_zona_7'),\n",
       " (61, 'Dlina,_m'),\n",
       " (55, 'R17sr'),\n",
       " (53, 'cold4_len'),\n",
       " (52, 'Soderzhanie_NH3_v_SF3_MP2'),\n",
       " (50, 'Trend_temperatury_za_5-j_kl__M12-02'),\n",
       " (49, 'Tochka_rosy_v_RTF'),\n",
       " (47, 'cold1_len'),\n",
       " (47, 'Temperatura_v_SF3_zona_1')]"
      ]
     },
     "execution_count": 96,
     "metadata": {},
     "output_type": "execute_result"
    }
   ],
   "source": [
    "sorted(zip(estimator_bimod.feature_importances_, data.columns), reverse=True)[:20]"
   ]
  },
  {
   "cell_type": "code",
   "execution_count": 98,
   "metadata": {},
   "outputs": [
    {
     "data": {
      "text/plain": [
       "<matplotlib.axes._subplots.AxesSubplot at 0x135d3b750>"
      ]
     },
     "execution_count": 98,
     "metadata": {},
     "output_type": "execute_result"
    },
    {
     "data": {
      "image/png": "[encoded data removed]",
      "text/plain": [
       "<Figure size 432x288 with 1 Axes>"
      ]
     },
     "metadata": {
      "needs_background": "light"
     },
     "output_type": "display_data"
    }
   ],
   "source": [
    "sns.distplot(y_reg[y_reg <= 1.19])"
   ]
  },
  {
   "cell_type": "code",
   "execution_count": null,
   "metadata": {},
   "outputs": [],
   "source": []
  },
  {
   "cell_type": "code",
   "execution_count": null,
   "metadata": {},
   "outputs": [],
   "source": []
  }
 ],
 "metadata": {
  "kernelspec": {
   "display_name": "Python 3",
   "language": "python",
   "name": "python3"
  },
  "language_info": {
   "codemirror_mode": {
    "name": "ipython",
    "version": 3
   },
   "file_extension": ".py",
   "mimetype": "text/x-python",
   "name": "python",
   "nbconvert_exporter": "python",
   "pygments_lexer": "ipython3",
   "version": "3.7.4"
  }
 },
 "nbformat": 4,
 "nbformat_minor": 2
}
